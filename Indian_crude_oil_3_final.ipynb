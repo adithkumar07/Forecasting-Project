{
 "cells": [
  {
   "cell_type": "markdown",
   "id": "4db02982",
   "metadata": {
    "id": "4db02982"
   },
   "source": [
    "# Dataset: macrotrends crude oil csv"
   ]
  },
  {
   "cell_type": "code",
   "execution_count": null,
   "id": "17b61a3b",
   "metadata": {
    "id": "17b61a3b"
   },
   "outputs": [],
   "source": [
    "# Importing libraries\n",
    "import pandas as pd\n",
    "import numpy as np\n",
    "import matplotlib.pyplot as plt\n",
    "import seaborn as sns"
   ]
  },
  {
   "cell_type": "code",
   "execution_count": null,
   "id": "86WCUFNHgwWe",
   "metadata": {
    "colab": {
     "base_uri": "https://localhost:8080/",
     "height": 73
    },
    "id": "86WCUFNHgwWe",
    "outputId": "0eaa7d29-9137-4d44-f75e-a8421ae86569"
   },
   "outputs": [],
   "source": [
    "#from google.colab import files\n",
    "#upload=files.upload()"
   ]
  },
  {
   "cell_type": "code",
   "execution_count": null,
   "id": "24d4741c",
   "metadata": {
    "id": "24d4741c"
   },
   "outputs": [],
   "source": [
    "df = pd.read_csv('/Users/adithkumar/Desktop/untitled folder 2/forecasting project/Project work/macrotrends crude oil.csv') # Loading Dataset"
   ]
  },
  {
   "cell_type": "markdown",
   "id": "342eff79",
   "metadata": {
    "id": "342eff79"
   },
   "source": [
    "# Visualization and Data Preprocessing"
   ]
  },
  {
   "cell_type": "code",
   "execution_count": null,
   "id": "deb53610",
   "metadata": {
    "colab": {
     "base_uri": "https://localhost:8080/",
     "height": 363
    },
    "id": "deb53610",
    "outputId": "ee57bad2-54f2-417d-fe69-f41bf91194f1"
   },
   "outputs": [],
   "source": [
    "df.head(10)"
   ]
  },
  {
   "cell_type": "code",
   "execution_count": null,
   "id": "7e478ebe",
   "metadata": {
    "colab": {
     "base_uri": "https://localhost:8080/"
    },
    "id": "7e478ebe",
    "outputId": "9b7e73be-129d-4a13-8592-a02270f86c60"
   },
   "outputs": [],
   "source": [
    "df.shape"
   ]
  },
  {
   "cell_type": "code",
   "execution_count": null,
   "id": "7c041002",
   "metadata": {
    "colab": {
     "base_uri": "https://localhost:8080/"
    },
    "id": "7c041002",
    "outputId": "35ad9706-dfc9-49f7-b094-70ef43320b35"
   },
   "outputs": [],
   "source": [
    "df.info()"
   ]
  },
  {
   "cell_type": "code",
   "execution_count": null,
   "id": "681f982f",
   "metadata": {
    "colab": {
     "base_uri": "https://localhost:8080/"
    },
    "id": "681f982f",
    "outputId": "f00ba191-063c-4007-c9f6-d855e899a2c6"
   },
   "outputs": [],
   "source": [
    "df.isnull().sum()"
   ]
  },
  {
   "cell_type": "code",
   "execution_count": null,
   "id": "oO1Mw6F-oQmU",
   "metadata": {
    "id": "oO1Mw6F-oQmU"
   },
   "outputs": [],
   "source": [
    "df=df.dropna()"
   ]
  },
  {
   "cell_type": "code",
   "execution_count": null,
   "id": "r-uXrfCepcp9",
   "metadata": {
    "colab": {
     "base_uri": "https://localhost:8080/"
    },
    "id": "r-uXrfCepcp9",
    "outputId": "0f8aeb8a-8fa8-4c07-83b5-4bbcfb76fd75"
   },
   "outputs": [],
   "source": [
    "df.isnull().sum()"
   ]
  },
  {
   "cell_type": "code",
   "execution_count": null,
   "id": "CuS_EnqBrH-v",
   "metadata": {
    "colab": {
     "base_uri": "https://localhost:8080/",
     "height": 206
    },
    "id": "CuS_EnqBrH-v",
    "outputId": "55263bd4-e5f5-4d43-a7d8-747b6bf985ee"
   },
   "outputs": [],
   "source": [
    "df.head()"
   ]
  },
  {
   "cell_type": "code",
   "execution_count": null,
   "id": "hi-UbbC5s4YX",
   "metadata": {
    "colab": {
     "base_uri": "https://localhost:8080/"
    },
    "id": "hi-UbbC5s4YX",
    "outputId": "caac446c-bd49-45e8-87da-4f552de7bedb"
   },
   "outputs": [],
   "source": [
    "df.columns"
   ]
  },
  {
   "cell_type": "code",
   "execution_count": null,
   "id": "I1CNcuOKaqjr",
   "metadata": {
    "colab": {
     "base_uri": "https://localhost:8080/"
    },
    "id": "I1CNcuOKaqjr",
    "outputId": "7203cc76-1ded-4616-be2a-e19b68f3d594"
   },
   "outputs": [],
   "source": [
    "#df['date']=pd.to_datetime(df['date'])\n",
    "df['date'] = pd.to_datetime(df['date'], errors='coerce')\n"
   ]
  },
  {
   "cell_type": "code",
   "execution_count": null,
   "id": "b2driU5cbP7V",
   "metadata": {
    "id": "b2driU5cbP7V"
   },
   "outputs": [],
   "source": [
    "df.rename(columns={' value':'price'},inplace=True)"
   ]
  },
  {
   "cell_type": "code",
   "execution_count": null,
   "id": "We32iz4Vb4iS",
   "metadata": {
    "colab": {
     "base_uri": "https://localhost:8080/",
     "height": 423
    },
    "id": "We32iz4Vb4iS",
    "outputId": "98cc13ab-53dd-4285-b5d0-bf4a90695b77"
   },
   "outputs": [],
   "source": [
    "df"
   ]
  },
  {
   "cell_type": "code",
   "execution_count": null,
   "id": "yjHxgninb80z",
   "metadata": {
    "colab": {
     "base_uri": "https://localhost:8080/"
    },
    "id": "yjHxgninb80z",
    "outputId": "309eafd0-78ac-4930-adcf-1fd27b18b114"
   },
   "outputs": [],
   "source": [
    "df.info()"
   ]
  },
  {
   "cell_type": "code",
   "execution_count": null,
   "id": "c0f5f139",
   "metadata": {
    "colab": {
     "base_uri": "https://localhost:8080/",
     "height": 80
    },
    "id": "c0f5f139",
    "outputId": "6623dd99-11ba-4b68-e5e9-0877b3e219e4"
   },
   "outputs": [],
   "source": [
    "df.describe().T"
   ]
  },
  {
   "cell_type": "code",
   "execution_count": null,
   "id": "4ba168ac",
   "metadata": {
    "colab": {
     "base_uri": "https://localhost:8080/",
     "height": 372
    },
    "id": "4ba168ac",
    "outputId": "fab3e5a4-eb44-4019-b191-90fbfb770b71"
   },
   "outputs": [],
   "source": [
    "fig, ax = plt.subplots(figsize=(30, 10))\n",
    "sns.lineplot(data=df,x =\"date\",y =\"price\",color = \"red\",marker = \".\")"
   ]
  },
  {
   "cell_type": "code",
   "execution_count": null,
   "id": "fC8dJh0Ctoid",
   "metadata": {
    "id": "fC8dJh0Ctoid"
   },
   "outputs": [],
   "source": [
    "import statsmodels.api as smf"
   ]
  },
  {
   "cell_type": "code",
   "execution_count": null,
   "id": "c8e802ee",
   "metadata": {
    "colab": {
     "base_uri": "https://localhost:8080/",
     "height": 957
    },
    "id": "c8e802ee",
    "outputId": "df8ab394-4ba2-4ee5-8a9b-15afe6949c23"
   },
   "outputs": [],
   "source": [
    "seasonal_ts_add=smf.tsa.seasonal_decompose(df[\"price\"],period=10)\n",
    "seasonal_ts_add.plot()"
   ]
  },
  {
   "cell_type": "code",
   "execution_count": null,
   "id": "943df3dc",
   "metadata": {
    "colab": {
     "base_uri": "https://localhost:8080/",
     "height": 462
    },
    "id": "943df3dc",
    "outputId": "1009e4a5-a6ae-444c-a026-e50b9cb218d8"
   },
   "outputs": [],
   "source": [
    "# Histogram\n",
    "df['price'].hist(figsize=(8,5))"
   ]
  },
  {
   "cell_type": "code",
   "execution_count": null,
   "id": "bf27b02d",
   "metadata": {
    "colab": {
     "base_uri": "https://localhost:8080/",
     "height": 462
    },
    "id": "bf27b02d",
    "outputId": "663d0731-5dd8-4c18-fbd2-c60868b16c07"
   },
   "outputs": [],
   "source": [
    "# Density Plot\n",
    "df['price'].plot(kind = 'kde', figsize=(8,5))"
   ]
  },
  {
   "cell_type": "code",
   "execution_count": null,
   "id": "186804b8",
   "metadata": {
    "colab": {
     "base_uri": "https://localhost:8080/",
     "height": 428
    },
    "id": "186804b8",
    "outputId": "a3f5ee8f-99cb-42b0-d7a3-58563b6a090a"
   },
   "outputs": [],
   "source": [
    "sns.boxplot(data=df['price'])"
   ]
  },
  {
   "cell_type": "code",
   "execution_count": null,
   "id": "dKGDee50CJgc",
   "metadata": {
    "colab": {
     "base_uri": "https://localhost:8080/",
     "height": 551
    },
    "id": "dKGDee50CJgc",
    "outputId": "4ffb63d5-6817-4f9f-91f5-c0cba040c78a"
   },
   "outputs": [],
   "source": [
    "df[df['price']>115]"
   ]
  },
  {
   "cell_type": "markdown",
   "id": "9m5WPz74ejVn",
   "metadata": {
    "id": "9m5WPz74ejVn"
   },
   "source": [
    "**Oil prices were on peak during this period due to decresed inventory of crude oil in second quarter of year & the low inventory was due to Russia ukraine war in first quarter of the year.**"
   ]
  },
  {
   "cell_type": "code",
   "execution_count": null,
   "id": "08pbCAJOC3bz",
   "metadata": {
    "colab": {
     "base_uri": "https://localhost:8080/",
     "height": 363
    },
    "id": "08pbCAJOC3bz",
    "outputId": "4f428ade-7525-4246-cd02-5178e9d29c18"
   },
   "outputs": [],
   "source": [
    "df[df['price']<20]"
   ]
  },
  {
   "cell_type": "markdown",
   "id": "hzV_csRpfPLT",
   "metadata": {
    "id": "hzV_csRpfPLT"
   },
   "source": [
    "**Oil prices dropped in this period due low demand due to COVID-19.**"
   ]
  },
  {
   "cell_type": "markdown",
   "id": "PdrEfBsZpf0A",
   "metadata": {
    "id": "PdrEfBsZpf0A"
   },
   "source": [
    "- Major shift"
   ]
  },
  {
   "cell_type": "code",
   "execution_count": null,
   "id": "up1XnTsbhKex",
   "metadata": {
    "colab": {
     "base_uri": "https://localhost:8080/"
    },
    "id": "up1XnTsbhKex",
    "outputId": "85b2ad8d-efe6-4acf-c67a-967e6e6e818d"
   },
   "outputs": [],
   "source": [
    "Price_bef_2015=df['price'][df['date']<'2015-03-01'].mean()\n",
    "print('Mean Price before 2015=',round(Price_bef_2015,2))\n",
    "Price_bw_2015_2020=df['price'][(df['date']>'2015-03-01') & (df['date']<'2020-03-01')].mean()\n",
    "print('Mean Price between 2015 & 2020=',round(Price_bw_2015_2020,2))\n",
    "dev=(Price_bw_2015_2020/Price_bef_2015)-1\n",
    "print('%Deviation between price of both periods=',round(dev*100,2),'%')"
   ]
  },
  {
   "cell_type": "markdown",
   "id": "MdJ9w-uSnfkY",
   "metadata": {
    "id": "MdJ9w-uSnfkY"
   },
   "source": [
    "**Major change between these two periods due to supply factor. In this duration US supply was in boom which reduced oil prices globaly.Boom in supply was due to advancement in drilling technologies & allowing free export of crude oil**"
   ]
  },
  {
   "cell_type": "markdown",
   "id": "ftdu-yPWpnh4",
   "metadata": {
    "id": "ftdu-yPWpnh4"
   },
   "source": [
    "- Breaking data of 2015 to 2020"
   ]
  },
  {
   "cell_type": "code",
   "execution_count": null,
   "id": "Dj21iu5_pmSg",
   "metadata": {
    "colab": {
     "base_uri": "https://localhost:8080/"
    },
    "id": "Dj21iu5_pmSg",
    "outputId": "f0eb7d02-fa6b-4c52-ecc7-f5a4dd1eb16a"
   },
   "outputs": [],
   "source": [
    "Price_bw_2015_2018=df['price'][(df['date']>'2015-03-01') & (df['date']<'2018-03-01')].mean()\n",
    "print('Mean Price between 2015 & 2018=',round(Price_bw_2015_2018,2))\n",
    "Price_bw_2018_2019=df['price'][(df['date']>'2018-03-01') & (df['date']<'2019-03-01')].mean()\n",
    "print('Mean Price between 2018 & 2019=',round(Price_bw_2018_2019,2))\n",
    "dev2=(Price_bw_2018_2019/Price_bw_2015_2018)-1\n",
    "print('%Deviation between price of both periods=',round(dev2*100,2),'%')"
   ]
  },
  {
   "cell_type": "markdown",
   "id": "X-LqQ5W1q07J",
   "metadata": {
    "id": "X-LqQ5W1q07J"
   },
   "source": [
    "**Major Increase between these two periods due to decrease in US economy & weak dollar.This increased the demand of oil & in turn increase in price.Weak dollar was due to fiscal stimulus, political crises in europe etc.**"
   ]
  },
  {
   "cell_type": "code",
   "execution_count": null,
   "id": "9808274c",
   "metadata": {
    "colab": {
     "base_uri": "https://localhost:8080/",
     "height": 449
    },
    "id": "9808274c",
    "outputId": "e1f47518-87ca-4315-9d53-71007f6762fb"
   },
   "outputs": [],
   "source": [
    "from pandas.plotting import lag_plot\n",
    "lag_plot(df['price'])\n",
    "plt.show()"
   ]
  },
  {
   "cell_type": "code",
   "execution_count": null,
   "id": "xv6nc5uxu_hB",
   "metadata": {
    "colab": {
     "base_uri": "https://localhost:8080/",
     "height": 447
    },
    "id": "xv6nc5uxu_hB",
    "outputId": "839b6868-b3c5-45df-ee8c-653296e44b7e"
   },
   "outputs": [],
   "source": [
    "#Moving Average\n",
    "plt.figure(figsize=(14,6))\n",
    "df.price.plot(label=\"org\")\n",
    "for i in range(4,13,4):\n",
    "    df[\"price\"].rolling(i).mean().plot(label=str(i))\n",
    "plt.legend(loc='best')\n",
    "plt.show()"
   ]
  },
  {
   "cell_type": "code",
   "execution_count": null,
   "id": "_s-pNqu3Y7Hs",
   "metadata": {
    "colab": {
     "base_uri": "https://localhost:8080/",
     "height": 461
    },
    "id": "_s-pNqu3Y7Hs",
    "outputId": "df970f54-6fe9-4695-8cec-848edddf5067"
   },
   "outputs": [],
   "source": [
    "#ACF plots and PACF plots\n",
    "import statsmodels.graphics.tsaplots as tsa_plots\n",
    "with plt.rc_context():\n",
    "    plt.rc(\"figure\", figsize=(14,6))\n",
    "    tsa_plots.plot_acf(df.price, lags=90)\n",
    "    plt.show()"
   ]
  },
  {
   "cell_type": "code",
   "execution_count": null,
   "id": "KxNIhMbtZNKp",
   "metadata": {
    "colab": {
     "base_uri": "https://localhost:8080/",
     "height": 331
    },
    "id": "KxNIhMbtZNKp",
    "outputId": "17fe5439-3d30-452b-b791-d380577d8dee"
   },
   "outputs": [],
   "source": [
    "import statsmodels.graphics.tsaplots as tsa_plots\n",
    "with plt.rc_context():\n",
    "    plt.rc(\"figure\", figsize=(14,4))\n",
    "    tsa_plots.plot_pacf(df.price,lags=45)\n",
    "    plt.show()"
   ]
  },
  {
   "cell_type": "code",
   "execution_count": null,
   "id": "kkkLtVCk2DXw",
   "metadata": {
    "colab": {
     "base_uri": "https://localhost:8080/",
     "height": 73
    },
    "id": "kkkLtVCk2DXw",
    "outputId": "bc85a3c7-a25d-41a6-cd93-319af0286f8e"
   },
   "outputs": [],
   "source": [
    "#from google.colab import files\n",
    "#upload=files.upload()"
   ]
  },
  {
   "cell_type": "code",
   "execution_count": null,
   "id": "keVL9tR0ZnIU",
   "metadata": {
    "id": "keVL9tR0ZnIU"
   },
   "outputs": [],
   "source": [
    "df1 = pd.read_csv('/Users/adithkumar/Desktop/untitled folder 2/forecasting project/Project work/EuropeanBrent.csv') # Loading Dataset"
   ]
  },
  {
   "cell_type": "code",
   "execution_count": null,
   "id": "U-IOElosZsCt",
   "metadata": {
    "colab": {
     "base_uri": "https://localhost:8080/",
     "height": 423
    },
    "id": "U-IOElosZsCt",
    "outputId": "75733487-9db1-4cc9-9b7b-f33ec069a573"
   },
   "outputs": [],
   "source": [
    "df1"
   ]
  },
  {
   "cell_type": "code",
   "execution_count": null,
   "id": "XfdIm12pZ0i-",
   "metadata": {
    "colab": {
     "base_uri": "https://localhost:8080/"
    },
    "id": "XfdIm12pZ0i-",
    "outputId": "219bf2cf-6157-4934-8a24-179ed200aa2d"
   },
   "outputs": [],
   "source": [
    "df1.info()"
   ]
  },
  {
   "cell_type": "code",
   "execution_count": null,
   "id": "zTRvpvIEaJ8l",
   "metadata": {
    "colab": {
     "base_uri": "https://localhost:8080/"
    },
    "id": "zTRvpvIEaJ8l",
    "outputId": "678d37e0-7826-4943-9d74-ccabbfd247d4"
   },
   "outputs": [],
   "source": [
    "df1.isnull().sum()"
   ]
  },
  {
   "cell_type": "code",
   "execution_count": null,
   "id": "9iQoyS4DaIoR",
   "metadata": {
    "id": "9iQoyS4DaIoR"
   },
   "outputs": [],
   "source": [
    "df1=df1.dropna()"
   ]
  },
  {
   "cell_type": "code",
   "execution_count": null,
   "id": "FPtTN5MDaZIw",
   "metadata": {
    "colab": {
     "base_uri": "https://localhost:8080/"
    },
    "id": "FPtTN5MDaZIw",
    "outputId": "66233bfb-95b4-42a5-ed58-1a313e2ef065"
   },
   "outputs": [],
   "source": [
    "df1.isnull().sum()"
   ]
  },
  {
   "cell_type": "code",
   "execution_count": null,
   "id": "qzbE9SCmabXo",
   "metadata": {
    "colab": {
     "base_uri": "https://localhost:8080/"
    },
    "id": "qzbE9SCmabXo",
    "outputId": "2944d577-a452-4ebe-a563-e457021ab321"
   },
   "outputs": [],
   "source": [
    "df1['Date']=pd.to_datetime(df1['Date'],errors='coerce')\n"
   ]
  },
  {
   "cell_type": "code",
   "execution_count": null,
   "id": "6oPu1vzYap1y",
   "metadata": {
    "colab": {
     "base_uri": "https://localhost:8080/"
    },
    "id": "6oPu1vzYap1y",
    "outputId": "7f00a749-e2a0-40bf-8836-517486515bd7"
   },
   "outputs": [],
   "source": [
    "df1.info()"
   ]
  },
  {
   "cell_type": "code",
   "execution_count": null,
   "id": "ebctXxA0a1xc",
   "metadata": {
    "colab": {
     "base_uri": "https://localhost:8080/",
     "height": 530
    },
    "id": "ebctXxA0a1xc",
    "outputId": "d6055af9-0b92-4779-d52e-7ba83d8b0cdf"
   },
   "outputs": [],
   "source": [
    "df1.rename(columns={'Europe Brent Spot Price FOB (Dollars per Barrel)':'price'},inplace=True)\n",
    "df1"
   ]
  },
  {
   "cell_type": "code",
   "execution_count": null,
   "id": "uobfOc7Sa_E7",
   "metadata": {
    "colab": {
     "base_uri": "https://localhost:8080/",
     "height": 372
    },
    "id": "uobfOc7Sa_E7",
    "outputId": "03ac2a7d-b9a1-4165-ba42-e6ea3dea8ebb"
   },
   "outputs": [],
   "source": [
    "fig, ax = plt.subplots(figsize=(30, 10))\n",
    "sns.lineplot(data=df1,x =\"Date\",y =\"price\",color = \"red\",marker = \".\")"
   ]
  },
  {
   "cell_type": "code",
   "execution_count": null,
   "id": "nvZlDQE0bIwt",
   "metadata": {
    "colab": {
     "base_uri": "https://localhost:8080/",
     "height": 428
    },
    "id": "nvZlDQE0bIwt",
    "outputId": "8d3d4027-9582-4775-c9fa-3844540498cb"
   },
   "outputs": [],
   "source": [
    "sns.boxplot(data=df1['price'])"
   ]
  },
  {
   "cell_type": "code",
   "execution_count": null,
   "id": "pNM0PZqObv8y",
   "metadata": {
    "colab": {
     "base_uri": "https://localhost:8080/"
    },
    "id": "pNM0PZqObv8y",
    "outputId": "49192f1d-75ba-41da-ebca-e35039160619"
   },
   "outputs": [],
   "source": [
    "Price_bw_2011_2015=df['price'][(df['date']>'2011-02-01') & (df['date']<'2015-03-01')].mean()\n",
    "print('Mean Price between 2011 & 2015=',round(Price_bw_2011_2015,2))\n",
    "Price_bw_2015_2020=df['price'][(df['date']>'2015-03-01') & (df['date']<'2020-03-01')].mean()\n",
    "print('Mean Price between 2015 & 2020=',round(Price_bw_2015_2020,2))\n",
    "dev=(Price_bw_2015_2020/Price_bw_2011_2015)-1\n",
    "print('%Deviation between price of both periods=',round(dev*100,2),'%')"
   ]
  },
  {
   "cell_type": "markdown",
   "id": "p_lHEpTAcZJ-",
   "metadata": {
    "id": "p_lHEpTAcZJ-"
   },
   "source": [
    "**Observations same as macrotrends data for period 2011 to 2024, Lets see observation before this period**"
   ]
  },
  {
   "cell_type": "code",
   "execution_count": null,
   "id": "h4Zh2ZnycxPX",
   "metadata": {
    "colab": {
     "base_uri": "https://localhost:8080/",
     "height": 206
    },
    "id": "h4Zh2ZnycxPX",
    "outputId": "79eb7852-0ca6-4ce8-b556-fb7dc01d7922"
   },
   "outputs": [],
   "source": [
    "df1[df1['price']>140]"
   ]
  },
  {
   "cell_type": "code",
   "execution_count": null,
   "id": "oWZ5qY4GhaP4",
   "metadata": {
    "colab": {
     "base_uri": "https://localhost:8080/"
    },
    "id": "oWZ5qY4GhaP4",
    "outputId": "87758f30-5800-42ad-a07b-760bde8c8db3"
   },
   "outputs": [],
   "source": [
    "Price_before_2004=df1['price'][df1['Date']<'2004-03-01'].mean()\n",
    "print('Mean Price before 2004=',round(Price_before_2004,2))\n",
    "Price_bw_2004_2008=df1['price'][(df1['Date']>'2004-03-01') & (df1['Date']<'2008-08-01')].mean()\n",
    "print('Mean Price between 2004 & 2008=',round(Price_bw_2004_2008,2))\n",
    "dev=(Price_bw_2004_2008/Price_before_2004)-1\n",
    "print('%Deviation between price of both periods=',round(dev*100,2),'%')"
   ]
  },
  {
   "cell_type": "markdown",
   "id": "Wgluu4YEiWjj",
   "metadata": {
    "id": "Wgluu4YEiWjj"
   },
   "source": [
    "From 2004 to 2008 oil prices continued to rise due to rising in demand & not meeting the demand by suppliers. in This period worlds dependency was only on OPECs (organization of petrolium exporting countries). Majorly Due to lack of technology OPECs were not able to meet the demand. Other reasons were political issues which lowered oil production & severe storm which damaged infrastructure & supply of oil in OPEC countries."
   ]
  },
  {
   "cell_type": "code",
   "execution_count": null,
   "id": "zNJ_0e77jKNz",
   "metadata": {
    "colab": {
     "base_uri": "https://localhost:8080/",
     "height": 129
    },
    "id": "zNJ_0e77jKNz",
    "outputId": "6c5a70e3-7ac5-4497-f14f-4e16d5f73d31"
   },
   "outputs": [],
   "source": [
    "Least_Price_bw_2008_2011=df1['price'][(df1['Date']>'2008-08-01') & (df1['Date']<'2011-02-01')].min()\n",
    "print('Least_Price_bw_2008_2011=',round(Least_Price_bw_2008_2011,2))\n",
    "df1[df1['price']==Least_Price_bw_2008_2011]"
   ]
  },
  {
   "cell_type": "markdown",
   "id": "gC5ccswak1xx",
   "metadata": {
    "id": "gC5ccswak1xx"
   },
   "source": [
    "After reaching peak in Jul-2008, oil prices again when to lowest peak of 33.73 USD/barrel due to U.S. started producing shale gas(Shale gas refers to natural gas that is trapped within shale formations. Shales are fine-grained sedimentary rocks that can be rich resources of petroleum and natural gas). Due to the production America stopped importing petroleum from the OPEC (Organization of the Petroleum Exporting Countries), this increased the supply by approximately 40% and demand being the same the prices started to drop."
   ]
  },
  {
   "cell_type": "code",
   "execution_count": null,
   "id": "SO8L2CjPlUwP",
   "metadata": {
    "colab": {
     "base_uri": "https://localhost:8080/"
    },
    "id": "SO8L2CjPlUwP",
    "outputId": "15a261c7-61ea-4b4a-f687-988d9cd5d86e"
   },
   "outputs": [],
   "source": [
    "Price_bw_2009_2011=df1['price'][(df1['Date']>'2009-01-15') & (df1['Date']<'2011-02-01')].mean()\n",
    "print('Mean Price between 2004 & 2008=',round(Price_bw_2009_2011,2))"
   ]
  },
  {
   "cell_type": "markdown",
   "id": "IhLmpm7kmEbF",
   "metadata": {
    "id": "IhLmpm7kmEbF"
   },
   "source": [
    "Post Dec 2008, oil prices continued to increase till 2011 purely due to increase in demand."
   ]
  },
  {
   "cell_type": "code",
   "execution_count": null,
   "id": "UCh6hsOHsdQc",
   "metadata": {
    "colab": {
     "base_uri": "https://localhost:8080/",
     "height": 455
    },
    "id": "UCh6hsOHsdQc",
    "outputId": "1e51cf1c-9cfa-4326-ef91-09c2ac8a0d35"
   },
   "outputs": [],
   "source": [
    "df2=df1.set_index('Date').resample('M').mean()\n",
    "df2"
   ]
  },
  {
   "cell_type": "code",
   "execution_count": null,
   "id": "BtkXmq6st83R",
   "metadata": {
    "colab": {
     "base_uri": "https://localhost:8080/",
     "height": 372
    },
    "id": "BtkXmq6st83R",
    "outputId": "3f090ebc-f5e5-434b-df02-7d33013cb405"
   },
   "outputs": [],
   "source": [
    "fig, ax = plt.subplots(figsize=(30, 10))\n",
    "sns.lineplot(data=df2,x =\"Date\",y =\"price\",color = \"red\",marker = \".\")"
   ]
  },
  {
   "cell_type": "code",
   "execution_count": null,
   "id": "-OQ6A215uPyM",
   "metadata": {
    "colab": {
     "base_uri": "https://localhost:8080/",
     "height": 957
    },
    "id": "-OQ6A215uPyM",
    "outputId": "372f78c2-7a22-4278-ce33-5f057cfdc82a"
   },
   "outputs": [],
   "source": [
    "#seasonal_ts_add=smf.tsa.seasonal_decompose(df2[\"price\"],period=10)\n",
    "#seasonal_ts_add.plot()\n",
    "\n",
    "\n",
    "\n",
    "import statsmodels.api as sm\n",
    "\n",
    "# Interpolate missing values\n",
    "df2['price'] = df2['price'].interpolate()\n",
    "\n",
    "# Perform seasonal decomposition\n",
    "seasonal_ts_add = sm.tsa.seasonal_decompose(df2[\"price\"], period=10)\n",
    "seasonal_ts_add.plot()"
   ]
  },
  {
   "cell_type": "code",
   "execution_count": null,
   "id": "6wXMScUPuWMM",
   "metadata": {
    "colab": {
     "base_uri": "https://localhost:8080/",
     "height": 464
    },
    "id": "6wXMScUPuWMM",
    "outputId": "cc4a3137-fe88-4e1f-e0ca-76e911dc8119"
   },
   "outputs": [],
   "source": [
    "#Moving Average\n",
    "plt.figure(figsize=(14,6))\n",
    "df2.price.plot(label=\"org\")\n",
    "for i in range(4,13,4):\n",
    "    df2[\"price\"].rolling(i).mean().plot(label=str(i))\n",
    "plt.legend(loc='best')\n",
    "plt.show()"
   ]
  },
  {
   "cell_type": "code",
   "execution_count": null,
   "id": "JEln4jP-u2DQ",
   "metadata": {
    "colab": {
     "base_uri": "https://localhost:8080/",
     "height": 461
    },
    "id": "JEln4jP-u2DQ",
    "outputId": "416e745a-723f-4921-bebb-e2782ff0c81f"
   },
   "outputs": [],
   "source": [
    "#ACF plots and PACF plots\n",
    "import statsmodels.graphics.tsaplots as tsa_plots\n",
    "with plt.rc_context():\n",
    "    plt.rc(\"figure\", figsize=(14,6))\n",
    "    tsa_plots.plot_acf(df2.price, lags=90)\n",
    "    plt.show()"
   ]
  },
  {
   "cell_type": "code",
   "execution_count": null,
   "id": "zkU-3GnUvSMN",
   "metadata": {
    "colab": {
     "base_uri": "https://localhost:8080/",
     "height": 331
    },
    "id": "zkU-3GnUvSMN",
    "outputId": "7a4df0e5-877d-426b-ad83-55f8e3ad600d"
   },
   "outputs": [],
   "source": [
    "import statsmodels.graphics.tsaplots as tsa_plots\n",
    "with plt.rc_context():\n",
    "    plt.rc(\"figure\", figsize=(14,4))\n",
    "    tsa_plots.plot_pacf(df2.price,lags=45)\n",
    "    plt.show()"
   ]
  },
  {
   "cell_type": "code",
   "execution_count": null,
   "id": "_ztfhKGcQxCP",
   "metadata": {
    "colab": {
     "base_uri": "https://localhost:8080/"
    },
    "id": "_ztfhKGcQxCP",
    "outputId": "26ece2d7-4c59-488c-ef67-104f2b3fbfad"
   },
   "outputs": [],
   "source": [
    "import numpy as np\n",
    "import pandas as pd\n",
    "import seaborn as sns\n",
    "import matplotlib.pyplot as plt\n",
    "import calendar\n",
    "from math import sqrt\n",
    "#from pandas import datetime\n",
    "import plotly.express as px\n",
    "from scipy.stats import boxcox\n",
    "import plotly.graph_objects as go\n",
    "from pandas.plotting import lag_plot\n",
    "import statsmodels.formula.api as smf\n",
    "from plotly.subplots import make_subplots\n",
    "from statsmodels.tsa.holtwinters import Holt\n",
    "from statsmodels.tsa.arima.model import ARIMA\n",
    "from statsmodels.tsa.stattools import adfuller\n",
    "from sklearn.metrics import mean_squared_error\n",
    "from statsmodels.tools.eval_measures import rmse\n",
    "from statsmodels.graphics.tsaplots import plot_acf\n",
    "from statsmodels.tsa.statespace.sarimax import SARIMAX\n",
    "from statsmodels.tsa.seasonal import seasonal_decompose\n",
    "from statsmodels.tsa.holtwinters import SimpleExpSmoothing\n",
    "from statsmodels.tsa.holtwinters import ExponentialSmoothing\n",
    "\n",
    "import warnings\n",
    "warnings.filterwarnings('ignore')"
   ]
  },
  {
   "cell_type": "code",
   "execution_count": null,
   "id": "NqO8ea5RRKIV",
   "metadata": {
    "colab": {
     "base_uri": "https://localhost:8080/",
     "height": 237
    },
    "id": "NqO8ea5RRKIV",
    "outputId": "52aa8985-d7ac-457e-9219-b52c0cb445e3"
   },
   "outputs": [],
   "source": [
    "#Splitting Train and Test Data\n",
    "#95% data as train & 5% as Test\n",
    "train_data = df2[:406]\n",
    "test_data = df2[406:]\n",
    "train_data.head()"
   ]
  },
  {
   "cell_type": "code",
   "execution_count": null,
   "id": "Xkyty7pDTC7c",
   "metadata": {
    "colab": {
     "base_uri": "https://localhost:8080/",
     "height": 237
    },
    "id": "Xkyty7pDTC7c",
    "outputId": "2d3d5750-87c3-4b16-910e-59cf1c808a79"
   },
   "outputs": [],
   "source": [
    "test_data.head()"
   ]
  },
  {
   "cell_type": "code",
   "execution_count": null,
   "id": "_88m-tljTP0A",
   "metadata": {
    "colab": {
     "base_uri": "https://localhost:8080/",
     "height": 525
    },
    "id": "_88m-tljTP0A",
    "outputId": "95d3ccdc-9576-474a-a4e6-5134ccf76a9d"
   },
   "outputs": [],
   "source": [
    "plt.figure(figsize=(12,6))\n",
    "plt.xlabel('Date')\n",
    "plt.ylabel('Price')\n",
    "plt.plot(train_data, 'green', label='Train data')\n",
    "plt.plot(test_data, 'red', label='Test data')\n",
    "plt.legend()\n",
    "plt.show()"
   ]
  },
  {
   "cell_type": "code",
   "execution_count": null,
   "id": "zpIWNnX_Twji",
   "metadata": {
    "id": "zpIWNnX_Twji"
   },
   "outputs": [],
   "source": [
    "#Evaluation Metric MAPE\n",
    "def MAPE(pred,org):\n",
    "    temp = np.abs((pred-org)/org)*100\n",
    "    return np.mean(temp)"
   ]
  },
  {
   "cell_type": "code",
   "execution_count": null,
   "id": "b0tX7fzET_QT",
   "metadata": {
    "colab": {
     "base_uri": "https://localhost:8080/"
    },
    "id": "b0tX7fzET_QT",
    "outputId": "d1cf3a30-cca8-4089-8981-186f8bc40dd8"
   },
   "outputs": [],
   "source": [
    "#Exponential Methods\n",
    "#Simple Exponential Method\n",
    "#Using Forecast Attribute\n",
    "ses_model = SimpleExpSmoothing(train_data['price']).fit(optimized=True)\n",
    "test_pred_ses = ses_model.forecast(24)\n",
    "train_pred_ses = ses_model.fittedvalues\n",
    "test_rmse_ses = sqrt(mean_squared_error(test_pred_ses,test_data.price))\n",
    "train_rmse_ses = sqrt(mean_squared_error(train_pred_ses,train_data))\n",
    "mape_ses = MAPE(test_pred_ses,test_data.price)\n",
    "print('Simple Exponential Method Evaluation',\"\\n\",\\\n",
    "'Mean Absolute Percent Error   = ', mape_ses,\"\\n\",\\\n",
    "'Train Root Mean Squared Error = ',train_rmse_ses,\"\\n\",\n",
    "'Test Root Mean Squared Error  = ',test_rmse_ses)"
   ]
  },
  {
   "cell_type": "code",
   "execution_count": null,
   "id": "vqON0b6UXaPF",
   "metadata": {
    "colab": {
     "base_uri": "https://localhost:8080/"
    },
    "id": "vqON0b6UXaPF",
    "outputId": "8e209a9e-0192-4fea-d1f1-4312198e89b1"
   },
   "outputs": [],
   "source": [
    "#Using Predict Attribute\n",
    "ses_model = SimpleExpSmoothing(train_data['price']).fit(optimized=True)\n",
    "test_pred_ses = ses_model.predict(start = test_data.index[0],end = test_data.index[-1])\n",
    "train_pred_ses = ses_model.fittedvalues\n",
    "test_rmse_ses = sqrt(mean_squared_error(test_pred_ses,test_data.price))\n",
    "train_rmse_ses = sqrt(mean_squared_error(train_pred_ses,train_data))\n",
    "mape_ses = MAPE(test_pred_ses,test_data.price)\n",
    "print('Simple Exponential Method Evaluation',\"\\n\",\\\n",
    "'Mean Absolute Percent Error   = {}'.format(mape_ses),\"\\n\",\\\n",
    "'Train Root Mean Squared Error = {}'.format(train_rmse_ses),\"\\n\",\n",
    "'Test Root Mean Squared Error  = {}'.format(test_rmse_ses))"
   ]
  },
  {
   "cell_type": "code",
   "execution_count": null,
   "id": "L0sldSvTYIfW",
   "metadata": {
    "colab": {
     "base_uri": "https://localhost:8080/",
     "height": 447
    },
    "id": "L0sldSvTYIfW",
    "outputId": "e28488bb-fed3-464a-85c8-ca7bdefcbae0"
   },
   "outputs": [],
   "source": [
    "#Difference between Predict and Forecast attribute\n",
    "plt.figure(figsize=(14,6))\n",
    "plt.plot(train_data, label='Train')\n",
    "plt.plot(test_data, label='Test')\n",
    "plt.plot(test_pred_ses, label='Simple exponential smoothing forcast')\n",
    "plt.legend(loc='best')\n",
    "plt.show()"
   ]
  },
  {
   "cell_type": "markdown",
   "id": "O3hOwVRSbJJd",
   "metadata": {
    "id": "O3hOwVRSbJJd"
   },
   "source": [
    "No seasonality captured. Most recent observation gets higher weightages than the older ones for forecasting."
   ]
  },
  {
   "cell_type": "code",
   "execution_count": null,
   "id": "0XKg8TIabTj0",
   "metadata": {
    "colab": {
     "base_uri": "https://localhost:8080/"
    },
    "id": "0XKg8TIabTj0",
    "outputId": "87372c74-9489-4492-dcf2-36fafa20c023"
   },
   "outputs": [],
   "source": [
    "#Holt method (Double Exponential)\n",
    "#Captures both Level and Trend .\n",
    "dexp_model  = Holt(train_data).fit(optimized=True)\n",
    "test_pred_dexp = dexp_model.forecast(24)\n",
    "train_pred_dexp = dexp_model.fittedvalues\n",
    "test_rmse_dexp = sqrt(mean_squared_error(test_pred_dexp,test_data.price))\n",
    "train_rmse_dexp = sqrt(mean_squared_error(train_pred_dexp,train_data))\n",
    "mape_dexp = MAPE(test_pred_dexp,test_data.price)\n",
    "print('Simple Exponential Method Evaluation',\"\\n\",\\\n",
    "'Mean Absolute Percent Error   = {}'.format(mape_dexp),\"\\n\",\\\n",
    "'Train Root Mean Squared Error = {}'.format(train_rmse_dexp),\"\\n\",\n",
    "'Test Root Mean Squared Error  = {}'.format(test_rmse_dexp))"
   ]
  },
  {
   "cell_type": "code",
   "execution_count": null,
   "id": "ZShEesyMcgxZ",
   "metadata": {
    "colab": {
     "base_uri": "https://localhost:8080/",
     "height": 447
    },
    "id": "ZShEesyMcgxZ",
    "outputId": "6fdf3c00-570a-43ed-8dd6-98a1705c03fc"
   },
   "outputs": [],
   "source": [
    "plt.figure(figsize=(14,6))\n",
    "plt.plot(train_data, label='Train')\n",
    "plt.plot(test_data, label='Test')\n",
    "plt.plot(test_pred_ses, label='Simple exponential smoothing forcast')\n",
    "plt.plot(test_pred_dexp, label='Double exponential smoothing forcast')\n",
    "plt.legend(loc='best')\n",
    "plt.show()"
   ]
  },
  {
   "cell_type": "markdown",
   "id": "I0sw602Fcn81",
   "metadata": {
    "id": "I0sw602Fcn81"
   },
   "source": [
    "Observation We can see that we are able to capture the trend of the data but the level is on another level. We were not able to capture the seasonality."
   ]
  },
  {
   "cell_type": "code",
   "execution_count": null,
   "id": "WLap7oCXcxkl",
   "metadata": {
    "colab": {
     "base_uri": "https://localhost:8080/"
    },
    "id": "WLap7oCXcxkl",
    "outputId": "6ee7e219-d936-49bb-902b-9b013bd55e7a"
   },
   "outputs": [],
   "source": [
    "#Holts winter exponential smoothing with additive seasonality and trend (Triple Exponential)\n",
    "texp_add_model  = ExponentialSmoothing(train_data,seasonal=\"add\",trend=\"add\",seasonal_periods=12).fit(optimized=True)\n",
    "test_pred_ad_texp = texp_add_model.forecast(24)\n",
    "train_pred_ad_texp = texp_add_model.fittedvalues\n",
    "test_rmse_ad_texp = sqrt(mean_squared_error(test_pred_ad_texp,test_data.price))\n",
    "train_rmse_ad_texp = sqrt(mean_squared_error(train_pred_ad_texp,train_data))\n",
    "mape_ad_texp = MAPE(test_pred_ad_texp,test_data.price)\n",
    "print('Triple Exponential with Additive Trend and Seosonality Method Evaluation',\"\\n\",\\\n",
    "'Mean Absolute Percent Error   = {}'.format(mape_ad_texp),\"\\n\",\\\n",
    "'Train Root Mean Squared Error = {}'.format(train_rmse_ad_texp),\"\\n\",\n",
    "'Test Root Mean Squared Error  = {}'.format(test_rmse_ad_texp))"
   ]
  },
  {
   "cell_type": "code",
   "execution_count": null,
   "id": "5CGWvSgbdSlo",
   "metadata": {
    "colab": {
     "base_uri": "https://localhost:8080/",
     "height": 447
    },
    "id": "5CGWvSgbdSlo",
    "outputId": "5cb7a5a4-818f-41cb-94a3-b287b67e231f"
   },
   "outputs": [],
   "source": [
    "plt.figure(figsize=(14,6))\n",
    "plt.plot(train_data, label='Train')\n",
    "plt.plot(test_data, label='Test')\n",
    "plt.plot(test_pred_ses, label='Simple exponential smoothing forcast')\n",
    "plt.plot(test_pred_dexp, label='Double exponential smoothing forcast')\n",
    "plt.plot(test_pred_ad_texp, label='Triple exponential smoothing forcast with Additive Trend and Sesonal')\n",
    "plt.legend(loc='best')\n",
    "plt.show()"
   ]
  },
  {
   "cell_type": "markdown",
   "id": "dF5pTOEqddm6",
   "metadata": {
    "id": "dF5pTOEqddm6"
   },
   "source": [
    "It captures the trend, which we can see that the forecasted values are between simple & double exponential\n",
    "It also captures the seasonality. But the errors are higher."
   ]
  },
  {
   "cell_type": "code",
   "execution_count": null,
   "id": "jA27mHh0eA6M",
   "metadata": {
    "colab": {
     "base_uri": "https://localhost:8080/"
    },
    "id": "jA27mHh0eA6M",
    "outputId": "4d69d3f5-7468-4b18-98e8-62b81cb0db0b"
   },
   "outputs": [],
   "source": [
    "#Holts winter exponential smoothing with multiplicative seasonality and additive trend (Triple Exponential)\n",
    "texp_mul_ad_model  = ExponentialSmoothing(train_data,seasonal=\"mul\",trend=\"add\",seasonal_periods=12).fit(optimized=True)\n",
    "test_pred_mul_ad_texp = texp_mul_ad_model.forecast(24)\n",
    "train_pred_mul_ad_texp = texp_mul_ad_model.fittedvalues\n",
    "test_rmse_mul_ad_texp = sqrt(mean_squared_error(test_pred_mul_ad_texp,test_data.price))\n",
    "train_rmse_mul_ad_texp = sqrt(mean_squared_error(train_pred_mul_ad_texp,train_data))\n",
    "mape_mul_ad_texp = MAPE(test_pred_mul_ad_texp,test_data.price)\n",
    "print('Triple Exponential Method with Multiplicative Seasonality and Additive Trend',\"\\n\",\\\n",
    "'Mean Absolute Percent Error   = {}'.format(mape_mul_ad_texp),\"\\n\",\\\n",
    "'Train Root Mean Squared Error = {}'.format(train_rmse_mul_ad_texp),\"\\n\",\n",
    "'Test Root Mean Squared Error  = {}'.format(test_rmse_mul_ad_texp))"
   ]
  },
  {
   "cell_type": "code",
   "execution_count": null,
   "id": "Z4xxBksFd6Nh",
   "metadata": {
    "colab": {
     "base_uri": "https://localhost:8080/",
     "height": 447
    },
    "id": "Z4xxBksFd6Nh",
    "outputId": "5f4ef182-3e72-49fe-9f82-990ec8c391cb"
   },
   "outputs": [],
   "source": [
    "plt.figure(figsize=(14,6))\n",
    "plt.plot(train_data, label='Train')\n",
    "plt.plot(test_data, label='Test')\n",
    "plt.plot(test_pred_ses, label='Simple exponential smoothing forcast')\n",
    "plt.plot(test_pred_dexp, label='Double exponential smoothing forcast')\n",
    "plt.plot(test_pred_ad_texp, label='Triple exponential smoothing forcast with Additive Trend and Sesonal')\n",
    "plt.plot(test_pred_mul_ad_texp, label='Triple exponential smoothing forcast with Additive Trend and Multiplicative Sesonal')\n",
    "plt.legend(loc='best')\n",
    "plt.show()"
   ]
  },
  {
   "cell_type": "markdown",
   "id": "5vr1LB8P-6OJ",
   "metadata": {
    "id": "5vr1LB8P-6OJ"
   },
   "source": [
    "We can see that the trend & error are similar to previous one."
   ]
  },
  {
   "cell_type": "code",
   "execution_count": null,
   "id": "rnHdifwX-lsz",
   "metadata": {
    "colab": {
     "base_uri": "https://localhost:8080/"
    },
    "id": "rnHdifwX-lsz",
    "outputId": "861be0c3-a4c4-4db1-d3a2-8d54385ed066"
   },
   "outputs": [],
   "source": [
    "#Holts winter exponential smoothing with Additive seasonality and multiplicative trend (Triple Exponential)\n",
    "texp_ad_mul_model  = ExponentialSmoothing(train_data,seasonal=\"add\",trend=\"mul\",seasonal_periods=12).fit(smoothing_level=0.1, smoothing_slope=0.5)\n",
    "test_pred_ad_mul_texp  = texp_ad_mul_model.forecast(24)\n",
    "train_pred_ad_mul_texp  = texp_ad_mul_model.fittedvalues\n",
    "test_rmse_ad_mul_texp  = sqrt(mean_squared_error(test_pred_ad_mul_texp ,test_data.price))\n",
    "train_rmse_ad_mul_texp  = sqrt(mean_squared_error(train_pred_ad_mul_texp ,train_data))\n",
    "mape_ad_mul_texp  = MAPE(test_pred_ad_mul_texp,test_data.price)\n",
    "print('Triple Exponential Method with Additive Seasonality and Multiplicative Trend',\"\\n\",\\\n",
    "'Mean Absolute Percent Error   = {}'.format(mape_ad_mul_texp ),\"\\n\",\\\n",
    "'Train Root Mean Squared Error = {}'.format(train_rmse_ad_mul_texp ),\"\\n\",\n",
    "'Test Root Mean Squared Error  = {}'.format(test_rmse_ad_mul_texp ))"
   ]
  },
  {
   "cell_type": "code",
   "execution_count": null,
   "id": "ujhjUXh9_3We",
   "metadata": {
    "colab": {
     "base_uri": "https://localhost:8080/",
     "height": 450
    },
    "id": "ujhjUXh9_3We",
    "outputId": "92057fb4-e889-4d20-bdaf-a2118ecc0ff8"
   },
   "outputs": [],
   "source": [
    "plt.figure(figsize=(14,6))\n",
    "plt.plot(train_data, label='Train')\n",
    "plt.plot(test_data, label='Test')\n",
    "plt.plot(test_pred_ses, label='Simple exponential smoothing forcast')\n",
    "plt.plot(test_pred_dexp, label='Double exponential smoothing forcast')\n",
    "plt.plot(test_pred_ad_texp, label='Triple exponential smoothing forcast with Additive Trend and Sesonal')\n",
    "plt.plot(test_pred_mul_ad_texp, label='Triple exponential smoothing forcast with Additive Trend and Multiplicative Sesonal')\n",
    "plt.plot(test_pred_ad_mul_texp, label='Triple Exponential Method with Additive Seasonality and Multiplicative Trend')\n",
    "plt.legend(loc='best')\n",
    "plt.show()"
   ]
  },
  {
   "cell_type": "markdown",
   "id": "GEgFHqGxAIHW",
   "metadata": {
    "id": "GEgFHqGxAIHW"
   },
   "source": [
    "With Additive seasonality & multiplicalive trend the error have been increased drastically as it is following most recent trend."
   ]
  },
  {
   "cell_type": "code",
   "execution_count": null,
   "id": "9r9Xvs47AEYV",
   "metadata": {
    "colab": {
     "base_uri": "https://localhost:8080/"
    },
    "id": "9r9Xvs47AEYV",
    "outputId": "52be81ec-883b-4fc4-e886-96aa2af9cd1a"
   },
   "outputs": [],
   "source": [
    "#Holts winter exponential smoothing with multiplicative seasonality and multiplicative trend (Triple Exponential)\n",
    "texp_mul_model  = ExponentialSmoothing(train_data,seasonal=\"mul\",trend=\"mul\",seasonal_periods=12).fit(optimized=True)\n",
    "test_pred_mul_texp  = texp_mul_model.forecast(24)\n",
    "train_pred_mul_texp  = texp_mul_model.fittedvalues\n",
    "test_rmse_mul_texp  = sqrt(mean_squared_error(test_pred_mul_texp ,test_data.price))\n",
    "train_rmse_mul_texp  = sqrt(mean_squared_error(train_pred_mul_texp ,train_data))\n",
    "mape_mul_texp  = MAPE(test_pred_mul_texp,test_data.price)\n",
    "print('Triple Exponential Method with multiplicative Trend and Seasonality',\"\\n\",\\\n",
    "'Mean Absolute Percent Error   = {}'.format(mape_mul_texp ),\"\\n\",\\\n",
    "'Train Root Mean Squared Error = {}'.format(train_rmse_mul_texp ),\"\\n\",\n",
    "'Test Root Mean Squared Error  = {}'.format(test_rmse_mul_texp ))"
   ]
  },
  {
   "cell_type": "code",
   "execution_count": null,
   "id": "-Ib_HiGFAXFY",
   "metadata": {
    "colab": {
     "base_uri": "https://localhost:8080/",
     "height": 450
    },
    "id": "-Ib_HiGFAXFY",
    "outputId": "e8861831-7438-4adb-f8e6-6be30e8901c3"
   },
   "outputs": [],
   "source": [
    "plt.figure(figsize=(14,6))\n",
    "plt.plot(train_data, label='Train')\n",
    "plt.plot(test_data, label='Test')\n",
    "plt.plot(test_pred_ses, label='Simple exponential smoothing forcast')\n",
    "plt.plot(test_pred_dexp, label='Double exponential smoothing forcast')\n",
    "plt.plot(test_pred_ad_texp, label='Triple exponential smoothing forcast with Additive Trend and Sesonal')\n",
    "plt.plot(test_pred_mul_ad_texp, label='Triple exponential smoothing forcast with Additive Trend and Multiplicative Sesonal')\n",
    "plt.plot(test_pred_ad_mul_texp, label='Triple Exponential Method with Additive Seasonality and Multiplicative Trend')\n",
    "plt.plot(test_pred_mul_texp, label='Triple Exponential Method with multiplicative Trend and Seasonality')\n",
    "plt.legend(loc='best')\n",
    "plt.show()"
   ]
  },
  {
   "cell_type": "markdown",
   "id": "Ey3aYP7KAbXS",
   "metadata": {
    "id": "Ey3aYP7KAbXS"
   },
   "source": [
    "With Multiplicative seasnoality & trend we are able to capture seasonality but still it has huge error & trend is approximately following simple linear regression."
   ]
  },
  {
   "cell_type": "code",
   "execution_count": null,
   "id": "zd8zhz2CAhx4",
   "metadata": {
    "colab": {
     "base_uri": "https://localhost:8080/",
     "height": 237
    },
    "id": "zd8zhz2CAhx4",
    "outputId": "dc571ade-c32d-41cf-d827-81910e1472b0"
   },
   "outputs": [],
   "source": [
    "#Comparing the results\n",
    "Evaluation = {\"Models\":pd.Series([\"Simple_Exp\",\"Double_Exp\",\"Triple_Exp_Add\",\"Triple_Exp_Mul_Add\",\"Triple_Exp_Add_Mul\",\"Triple_Exp_Mul\"]),\n",
    "        \"Train_RMSE\":pd.Series([train_rmse_ses,train_rmse_dexp,train_rmse_ad_texp,train_rmse_mul_ad_texp,train_rmse_ad_mul_texp,train_rmse_mul_texp]),\n",
    "        \"Test_MAPE(%)\":pd.Series([mape_ses,mape_dexp,mape_ad_texp,mape_mul_ad_texp,mape_ad_mul_texp,mape_mul_texp]),\n",
    "        \"Test_RMSE_Values\":pd.Series([test_rmse_ses,test_rmse_dexp,test_rmse_ad_texp,test_rmse_mul_ad_texp,test_rmse_ad_mul_texp,test_rmse_mul_texp])}\n",
    "table_evaluation=pd.DataFrame(Evaluation)\n",
    "table_evaluation.sort_values(['Test_MAPE(%)'], inplace=True, ignore_index=True)\n",
    "table_evaluation"
   ]
  },
  {
   "cell_type": "code",
   "execution_count": null,
   "id": "tcIvfrvzAtdL",
   "metadata": {
    "colab": {
     "base_uri": "https://localhost:8080/",
     "height": 382
    },
    "id": "tcIvfrvzAtdL",
    "outputId": "5eaa22d6-0c4c-4f1a-f0cb-3c338ec926ac"
   },
   "outputs": [],
   "source": [
    "#Visualizing Models Performance\n",
    "f, axe = plt.subplots(1,1, figsize=(14,6))\n",
    "sns.barplot(x='Test_RMSE_Values', y='Models', data=table_evaluation, ax = axe)\n",
    "axe.set_xlabel('RMSE', size=16)\n",
    "axe.set_ylabel('Different_Models', size=16)\n",
    "plt.yticks(fontsize=14)\n",
    "plt.xticks(fontsize=14)\n",
    "\n",
    "for i, v in enumerate(np.round(table_evaluation.Test_RMSE_Values.values,0)):\n",
    "    axe.text(v + 3, i + .25, str(v), fontsize= 14)\n",
    "plt.show()"
   ]
  },
  {
   "cell_type": "code",
   "execution_count": null,
   "id": "CMiA0aD2BVd1",
   "metadata": {
    "id": "CMiA0aD2BVd1"
   },
   "outputs": [],
   "source": [
    "#Autoregressive Integrated Moving Averages (ARIMA)\n",
    "#Stationary vs Non-stationary Time Series\n",
    "#Test of Stationarity\n",
    "#As we have quarterly data the window size for moving average is equal to 4\n",
    "def test_stationarity(timeseries):\n",
    "\n",
    "    # Determine rolling statistics\n",
    "    movingAverage = timeseries.rolling(window=4).mean()\n",
    "    movingSTD = timeseries.rolling(window=4).std()\n",
    "\n",
    "    # Plot rolling statistics\n",
    "    orig = plt.plot(timeseries, color='blue', label='Original')\n",
    "    mean = plt.plot(movingAverage, color='red', label='Rolling Mean')\n",
    "    plt.legend(loc='best')\n",
    "    plt.title('Rolling Mean')\n",
    "    plt.show(block=False)\n",
    "\n",
    "    # Perform Dickey–Fuller test:\n",
    "    print('Results of Dickey Fuller Test:')\n",
    "    dftest = adfuller(timeseries['price'], autolag='AIC')\n",
    "    dfoutput = pd.Series(dftest[0:4], index=['Test Statistic','p-value','#Lags Used','Number of Observations Used'])\n",
    "    for key,value in dftest[4].items():\n",
    "        dfoutput['Critical Value (%s)'%key] = value\n",
    "    print(dfoutput)"
   ]
  },
  {
   "cell_type": "code",
   "execution_count": null,
   "id": "ldrT5sK4Bl3b",
   "metadata": {
    "colab": {
     "base_uri": "https://localhost:8080/",
     "height": 542
    },
    "id": "ldrT5sK4Bl3b",
    "outputId": "5dc160f7-4252-4c1d-9e91-45ff1f328b7d"
   },
   "outputs": [],
   "source": [
    "#Augmented Dicky Fuller Test\n",
    "plt.figure(figsize=(12,4))\n",
    "price= pd.DataFrame()\n",
    "price['price'] = df2[['price']]\n",
    "test_stationarity(price)"
   ]
  },
  {
   "cell_type": "code",
   "execution_count": null,
   "id": "F92EJ6txCDv4",
   "metadata": {
    "id": "F92EJ6txCDv4"
   },
   "outputs": [],
   "source": [
    "def adf_test(series):\n",
    "    result = adfuller(series.dropna())\n",
    "    labels = ['ADF test statistic','p-value','# lags used','# observations']\n",
    "    out = pd.Series(result[0:4],index=labels)\n",
    "\n",
    "    if result[1] <= 0.05:\n",
    "        print(\"Reject the null hypothesis\")\n",
    "        print(\"Data is stationary\")\n",
    "    else:\n",
    "        print(\"Fail to reject the null hypothesis\")\n",
    "        print(\"Data is non-stationary\")"
   ]
  },
  {
   "cell_type": "code",
   "execution_count": null,
   "id": "F9GoZj3JCOqx",
   "metadata": {
    "colab": {
     "base_uri": "https://localhost:8080/"
    },
    "id": "F9GoZj3JCOqx",
    "outputId": "4255b5e3-543d-4222-99ae-0d8a13a66f29"
   },
   "outputs": [],
   "source": [
    "adf_test(price.price)"
   ]
  },
  {
   "cell_type": "code",
   "execution_count": null,
   "id": "qFfp7oCYCWiy",
   "metadata": {
    "colab": {
     "base_uri": "https://localhost:8080/",
     "height": 687
    },
    "id": "qFfp7oCYCWiy",
    "outputId": "a28b1c5d-2685-4a71-ebc7-3eca56dba657"
   },
   "outputs": [],
   "source": [
    "#Box Cox Transformation\n",
    "data_boxcox = pd.DataFrame()\n",
    "data_boxcox['price'] = pd.Series(boxcox(df2['price'], lmbda=0), df2.index)\n",
    "display(data_boxcox.head())\n",
    "fig, axis = plt.subplots(2,figsize=(14,6),)\n",
    "axis[0].plot(data_boxcox)\n",
    "axis[0].set_title('After Box Cox Transformation')\n",
    "axis[1].plot(df2, label='original')\n",
    "axis[1].set_title('Original')\n",
    "plt.show()"
   ]
  },
  {
   "cell_type": "code",
   "execution_count": null,
   "id": "lYq1IKwvCth0",
   "metadata": {
    "colab": {
     "base_uri": "https://localhost:8080/",
     "height": 544
    },
    "id": "lYq1IKwvCth0",
    "outputId": "a93ef176-34bb-477d-b321-f0dfb79a1a0f"
   },
   "outputs": [],
   "source": [
    "plt.figure(figsize=(12,4))\n",
    "test_stationarity(data_boxcox)"
   ]
  },
  {
   "cell_type": "code",
   "execution_count": null,
   "id": "jeuXk4z-C7wk",
   "metadata": {
    "colab": {
     "base_uri": "https://localhost:8080/"
    },
    "id": "jeuXk4z-C7wk",
    "outputId": "8ad2870f-1d6e-4372-dcd4-713bdd4abbdd"
   },
   "outputs": [],
   "source": [
    "adf_test(data_boxcox)"
   ]
  },
  {
   "cell_type": "code",
   "execution_count": null,
   "id": "qiXMdxqgDJLk",
   "metadata": {
    "colab": {
     "base_uri": "https://localhost:8080/",
     "height": 361
    },
    "id": "qiXMdxqgDJLk",
    "outputId": "efc5f7df-7cf1-4ecd-c480-7dccdcc0bee5"
   },
   "outputs": [],
   "source": [
    "#Differencing of the Box-Cox Transformation\n",
    "data_boxcox_diff = data_boxcox - data_boxcox.shift()\n",
    "data_boxcox_diff.dropna(inplace=True)\n",
    "plt.figure(figsize=(12,4))\n",
    "plt.plot(data_boxcox_diff, label='After Box Cox Transformation and Differencing')\n",
    "plt.legend(loc='best')\n",
    "plt.show()"
   ]
  },
  {
   "cell_type": "code",
   "execution_count": null,
   "id": "zOhKKf6pDQNV",
   "metadata": {
    "colab": {
     "base_uri": "https://localhost:8080/",
     "height": 539
    },
    "id": "zOhKKf6pDQNV",
    "outputId": "c28c10b5-865d-4a0a-bfe3-812060fdfa0e"
   },
   "outputs": [],
   "source": [
    "plt.figure(figsize=(12,4))\n",
    "test_stationarity(data_boxcox_diff)"
   ]
  },
  {
   "cell_type": "code",
   "execution_count": null,
   "id": "1aADDXRqDXMH",
   "metadata": {
    "colab": {
     "base_uri": "https://localhost:8080/"
    },
    "id": "1aADDXRqDXMH",
    "outputId": "dfb39e42-6acc-4d4d-e5e7-d37c2c6c219a"
   },
   "outputs": [],
   "source": [
    "adf_test(data_boxcox_diff.price)"
   ]
  },
  {
   "cell_type": "code",
   "execution_count": null,
   "id": "lFYlYxkcDeXs",
   "metadata": {
    "id": "lFYlYxkcDeXs"
   },
   "outputs": [],
   "source": [
    "#Building The Time Series Forecasting with Optimal Value using ARIMA\n",
    "train_data_boxcox = data_boxcox[:406]\n",
    "test_data_boxcox = data_boxcox[406:]\n",
    "train_data_boxcox_diff = data_boxcox_diff[:406]\n",
    "test_data_boxcox_diff = data_boxcox_diff[406:]"
   ]
  },
  {
   "cell_type": "code",
   "execution_count": null,
   "id": "L4kVVEF3D5k6",
   "metadata": {
    "id": "L4kVVEF3D5k6"
   },
   "outputs": [],
   "source": [
    "#ARIMA Hyperparameter Tuning\n",
    "# Grid search ARIMA parameters for a time series\n",
    "# Evaluate an ARIMA model for a given order (p,d,q) and return RMSE\n",
    "\n",
    "def evaluate_arima_model(X, arima_order):\n",
    "\n",
    "# Prepare training dataset\n",
    "    X = X.astype('float32')\n",
    "    train_size = int(len(X) * 0.944)\n",
    "    train, test = X[0:train_size], X[train_size:]\n",
    "    history = [x for x in train]\n",
    "\n",
    "# Make predictions\n",
    "    predictions = list()\n",
    "    for t in range(len(test)):\n",
    "        model = ARIMA(history, order=arima_order)\n",
    "        model_fit = model.fit()\n",
    "        yhat = model_fit.forecast()[0]\n",
    "        predictions.append(yhat)\n",
    "        history.append(test[t])\n",
    "\n",
    "# Calculate out of sample error\n",
    "    rmse = sqrt(mean_squared_error(test, predictions))\n",
    "    return rmse\n",
    "\n",
    "# Evaluate combinations of p, d and q values for an ARIMA model\n",
    "def evaluate_models(dataset, p_values, d_values, q_values):\n",
    "    dataset = dataset.astype('float32')\n",
    "    best_score, best_cfg = float('inf'), None\n",
    "    for p in p_values:\n",
    "        for d in d_values:\n",
    "            for q in q_values:\n",
    "                order = (p,d,q)\n",
    "                try:\n",
    "                    rmse = evaluate_arima_model(dataset, order)\n",
    "                    if rmse < best_score:\n",
    "                        best_score, best_cfg = rmse, order\n",
    "                except Exception as e:\n",
    "                    print(e)\n",
    "                    continue\n",
    "    print('Best ARIMA%s RMSE=%.3f' % (best_cfg, best_score))"
   ]
  },
  {
   "cell_type": "code",
   "execution_count": null,
   "id": "bWfj5N6rEKfv",
   "metadata": {
    "id": "bWfj5N6rEKfv"
   },
   "outputs": [],
   "source": [
    "#Evaluate parameters\n",
    "#p_values = range(0,5)\n",
    "#d_values = range(0,5)\n",
    "#q_values = range(0,5)\n",
    "#evaluate_models(train_data_boxcox_diff.price, p_values, d_values, q_values)"
   ]
  },
  {
   "cell_type": "code",
   "execution_count": null,
   "id": "9Uo8Gr77EbQp",
   "metadata": {
    "id": "9Uo8Gr77EbQp"
   },
   "outputs": [],
   "source": [
    "#Inverse transformation of the Box-Cox Differencing\n",
    "model = ARIMA(train_data_boxcox_diff, order=(4, 1, 4))\n",
    "model_fit1 = model.fit()\n",
    "y_hat_ar = data_boxcox_diff.copy()\n",
    "y_hat_ar['arima_forecast'] = model_fit1.predict(data_boxcox_diff.index.min(), data_boxcox_diff.index.max())\n",
    "\n",
    "# We did differencing. So we need to revert it by adding the consecutive observations.\n",
    "# For that we are using cumsum() method\n",
    "y_hat_ar['arima_forecast'] = y_hat_ar['arima_forecast'].cumsum()\n",
    "\n",
    "# We removed the first observations after differencing as it was null. Hence, adding the first observation back.\n",
    "y_hat_ar['arima_forecast'] = y_hat_ar['arima_forecast'].add(data_boxcox.price[0])\n",
    "\n",
    "# Now doing the reverse transformation\n",
    "# We have done Box Cox Log Log transformation with lambda = 0\n",
    "# Hence, we have to the exponential as it is the reverse of the log.\n",
    "y_hat_ar['arima_forecast'] = np.exp(y_hat_ar['arima_forecast'])"
   ]
  },
  {
   "cell_type": "code",
   "execution_count": null,
   "id": "z7eNFZ0LExLy",
   "metadata": {
    "colab": {
     "base_uri": "https://localhost:8080/",
     "height": 363
    },
    "id": "z7eNFZ0LExLy",
    "outputId": "c023f2db-d5e1-4583-d349-b8bb2cfb092a"
   },
   "outputs": [],
   "source": [
    "plt.figure(figsize=(12,4))\n",
    "plt.plot(train_data['price'], label='Train')\n",
    "plt.plot(test_data, label='Test')\n",
    "plt.plot(y_hat_ar['arima_forecast'][test_data.index.min():], label='Auto regression forecast (AR)')\n",
    "plt.legend(loc='best')\n",
    "plt.show()"
   ]
  },
  {
   "cell_type": "code",
   "execution_count": null,
   "id": "qdcOYpM4FYn9",
   "metadata": {
    "colab": {
     "base_uri": "https://localhost:8080/"
    },
    "id": "qdcOYpM4FYn9",
    "outputId": "1ff1a171-47cb-4ccb-ae2b-6bb5c8d91764"
   },
   "outputs": [],
   "source": [
    "#Model Evaluation\n",
    "#RMSE (Root Mean Squared Error)\n",
    "rmse_arima = np.sqrt(mean_squared_error(test_data.price, y_hat_ar['arima_forecast'][test_data.index.min():])).round(2)\n",
    "rmse_arima"
   ]
  },
  {
   "cell_type": "code",
   "execution_count": null,
   "id": "jcMpyEtFFcbQ",
   "metadata": {
    "colab": {
     "base_uri": "https://localhost:8080/"
    },
    "id": "jcMpyEtFFcbQ",
    "outputId": "0587d5b1-2996-4eaf-ca7a-495b0b744e2f"
   },
   "outputs": [],
   "source": [
    "#MAPE (Mean Absolute Percent Error)\n",
    "mape_arima = round(np.mean(np.abs((test_data.price - y_hat_ar['arima_forecast'][test_data.index.min():])/test_data.price)*100),2)\n",
    "mape_arima"
   ]
  },
  {
   "cell_type": "code",
   "execution_count": null,
   "id": "bRwRDT_YFp0L",
   "metadata": {
    "colab": {
     "base_uri": "https://localhost:8080/"
    },
    "id": "bRwRDT_YFp0L",
    "outputId": "e3a7dd09-261d-4050-a318-37350e3c5a3f"
   },
   "outputs": [],
   "source": [
    "#Analysing the Residuals\n",
    "#The mean of the Residual should be zero or close to Zero\n",
    "model_residual = model_fit1.resid\n",
    "model_residual.mean()"
   ]
  },
  {
   "cell_type": "code",
   "execution_count": null,
   "id": "xZSeiydgFtLZ",
   "metadata": {
    "colab": {
     "base_uri": "https://localhost:8080/"
    },
    "id": "xZSeiydgFtLZ",
    "outputId": "3928d85c-889d-4f9b-cebe-cffa26ab06e3"
   },
   "outputs": [],
   "source": [
    "adf_test(model_residual)"
   ]
  },
  {
   "cell_type": "code",
   "execution_count": null,
   "id": "uRraWgPEF1_s",
   "metadata": {
    "id": "uRraWgPEF1_s"
   },
   "outputs": [],
   "source": [
    "#Seasonal Auto Regressive Integrated Moving Average (SARIMA)\n",
    "#We are only passing the Box Cox because the ARIMAX will perform the differencing internally\n",
    "#seasonal_order P=2, Q=2, D=2 and m=12 || m=12 . Because the seasonality is monthly.\n",
    "model = SARIMAX(train_data_boxcox, order=(4,1,4), seasonal_order=(4,1,4,12))\n",
    "model_fit2= model.fit()\n",
    "y_hat_sarima = data_boxcox_diff.copy()"
   ]
  },
  {
   "cell_type": "code",
   "execution_count": null,
   "id": "hMuThUYzF7fD",
   "metadata": {
    "id": "hMuThUYzF7fD"
   },
   "outputs": [],
   "source": [
    "#Inverse Transformation of the Differencing Box-Cox Transformation\n",
    "y_hat_sarima['sarima_forecast_boxcox'] = model_fit2.predict(data_boxcox_diff.index.min(), data_boxcox_diff.index.max())\n",
    "y_hat_sarima['sarima_forecast'] = np.exp(y_hat_sarima['sarima_forecast_boxcox'])"
   ]
  },
  {
   "cell_type": "code",
   "execution_count": null,
   "id": "bWOHiumOGAJu",
   "metadata": {
    "colab": {
     "base_uri": "https://localhost:8080/",
     "height": 447
    },
    "id": "bWOHiumOGAJu",
    "outputId": "41e4cdd6-030e-440d-ceca-9d3e18c7b0b8"
   },
   "outputs": [],
   "source": [
    "plt.figure(figsize=(14,6))\n",
    "plt.plot(train_data['price'], label='Train')\n",
    "plt.plot(test_data, label='Test')\n",
    "plt.plot(y_hat_sarima['sarima_forecast'][test_data.index.min():], label='SARIMA Forecast')\n",
    "plt.legend(loc='best')\n",
    "plt.show()"
   ]
  },
  {
   "cell_type": "code",
   "execution_count": null,
   "id": "BKD5rNqyGHhu",
   "metadata": {
    "colab": {
     "base_uri": "https://localhost:8080/"
    },
    "id": "BKD5rNqyGHhu",
    "outputId": "ad249bb4-3219-48b9-ef40-96b6c91a9d74"
   },
   "outputs": [],
   "source": [
    "rmse_sarima = np.sqrt(mean_squared_error(test_data, y_hat_sarima['sarima_forecast'][test_data.index.min():])).round(2)\n",
    "rmse_sarima"
   ]
  },
  {
   "cell_type": "code",
   "execution_count": null,
   "id": "JgM605T-GLXp",
   "metadata": {
    "colab": {
     "base_uri": "https://localhost:8080/"
    },
    "id": "JgM605T-GLXp",
    "outputId": "96398649-d13e-465f-900d-27923891d34b"
   },
   "outputs": [],
   "source": [
    "mape_sarima = round(np.mean(np.abs((test_data.price - y_hat_sarima['sarima_forecast'][test_data.index.min():])/test_data.price)*100),2)\n",
    "mape_sarima"
   ]
  },
  {
   "cell_type": "code",
   "execution_count": null,
   "id": "h8FYbyNUGRqp",
   "metadata": {
    "colab": {
     "base_uri": "https://localhost:8080/"
    },
    "id": "h8FYbyNUGRqp",
    "outputId": "dd437a08-344a-4668-e94b-8943886a14c6"
   },
   "outputs": [],
   "source": [
    "model_residual = model_fit2.resid\n",
    "model_residual.mean()"
   ]
  },
  {
   "cell_type": "code",
   "execution_count": null,
   "id": "ITGEw_SJGSvb",
   "metadata": {
    "colab": {
     "base_uri": "https://localhost:8080/"
    },
    "id": "ITGEw_SJGSvb",
    "outputId": "6affb63a-a6f2-4be2-da36-6ecfe1794d28"
   },
   "outputs": [],
   "source": [
    "adf_test(model_residual)"
   ]
  },
  {
   "cell_type": "code",
   "execution_count": null,
   "id": "JhBRSzgmGYs8",
   "metadata": {
    "colab": {
     "base_uri": "https://localhost:8080/",
     "height": 300
    },
    "id": "JhBRSzgmGYs8",
    "outputId": "cbcc9b2c-7bc6-4f5e-8f4c-8a55b84213d7"
   },
   "outputs": [],
   "source": [
    "#Comparing the results\n",
    "Evaluation = {\"Models\":pd.Series([\"Simple_Exponential\",\"Double_Exponential\",\"Triple_Exp_Additive\",\"Triple_Exp_Mul_Add\",\"Triple_Exp_Add_Mul\",\"Triple_Exp_Multiplicative\",\"ARIMA\",\"SARIMA\"]),\n",
    "        \"MAPE(%)\":pd.Series([mape_ses,mape_dexp,mape_ad_texp,mape_mul_ad_texp,mape_ad_mul_texp,mape_mul_texp,mape_arima,mape_sarima]),\\\n",
    "        \"RMSE_Values\":pd.Series([test_rmse_ses,test_rmse_dexp,test_rmse_ad_texp,test_rmse_mul_ad_texp,test_rmse_ad_mul_texp,test_rmse_mul_texp,rmse_arima,rmse_sarima])}\n",
    "table_evaluation=pd.DataFrame(Evaluation)\n",
    "table_evaluation.sort_values(['RMSE_Values'], inplace=True, ignore_index=True)\n",
    "table_evaluation"
   ]
  },
  {
   "cell_type": "code",
   "execution_count": null,
   "id": "0-kWHClMGdCG",
   "metadata": {
    "colab": {
     "base_uri": "https://localhost:8080/",
     "height": 376
    },
    "id": "0-kWHClMGdCG",
    "outputId": "9afefbd4-49d4-4f27-ab40-fc0ce91de972"
   },
   "outputs": [],
   "source": [
    "f, axe = plt.subplots(1,1, figsize=(14,6))\n",
    "sns.barplot(x='RMSE_Values', y='Models', data=table_evaluation, ax = axe)\n",
    "axe.set_xlabel('RMSE', size=16)\n",
    "axe.set_ylabel('Different_Models', size=16)\n",
    "plt.yticks(fontsize=14)\n",
    "plt.xticks(fontsize=14)\n",
    "\n",
    "for i, v in enumerate(np.round(table_evaluation.RMSE_Values.values,0)):\n",
    "    axe.text(v + 3, i + .25, str(v), fontsize= 16)\n",
    "\n",
    "plt.show()"
   ]
  },
  {
   "cell_type": "markdown",
   "id": "HfiLdxMBoBHG",
   "metadata": {
    "id": "HfiLdxMBoBHG"
   },
   "source": [
    "Sequence Classification with LSTM Recurrent Neural Networks"
   ]
  },
  {
   "cell_type": "code",
   "execution_count": null,
   "id": "FbUN3VVbAwEx",
   "metadata": {
    "id": "FbUN3VVbAwEx"
   },
   "outputs": [],
   "source": [
    "import tensorflow as tf\n",
    "from tensorflow.keras.models import Sequential\n",
    "from tensorflow.keras.layers import Dense\n",
    "from tensorflow.keras.layers import LSTM\n",
    "from sklearn.preprocessing import MinMaxScaler\n",
    "from sklearn.metrics import mean_squared_error"
   ]
  },
  {
   "cell_type": "code",
   "execution_count": null,
   "id": "xD3fR_OiA4pI",
   "metadata": {
    "id": "xD3fR_OiA4pI"
   },
   "outputs": [],
   "source": [
    "tf.random.set_seed(7)"
   ]
  },
  {
   "cell_type": "code",
   "execution_count": null,
   "id": "DUUQ8fi-A9O9",
   "metadata": {
    "colab": {
     "base_uri": "https://localhost:8080/"
    },
    "id": "DUUQ8fi-A9O9",
    "outputId": "543304ae-c95a-4808-918b-73d5977529ca"
   },
   "outputs": [],
   "source": [
    "# normalize the dataset\n",
    "scaler = MinMaxScaler(feature_range=(0, 1))\n",
    "dataset = scaler.fit_transform(df2)\n",
    "#dataset=np.array(df2['price'])\n",
    "dataset"
   ]
  },
  {
   "cell_type": "code",
   "execution_count": null,
   "id": "xes0c_GuBs7r",
   "metadata": {
    "colab": {
     "base_uri": "https://localhost:8080/"
    },
    "id": "xes0c_GuBs7r",
    "outputId": "4a2659e8-74da-497e-f6f3-6be8ffd4afb3"
   },
   "outputs": [],
   "source": [
    "# split into train and test sets\n",
    "train_size = int(len(dataset) * 0.944)\n",
    "test_size = len(dataset) - train_size\n",
    "train, test = dataset[0:train_size,:], dataset[train_size:len(dataset),:]\n",
    "print(len(train), len(test))"
   ]
  },
  {
   "cell_type": "code",
   "execution_count": null,
   "id": "SwbSpiOyB56I",
   "metadata": {
    "id": "SwbSpiOyB56I"
   },
   "outputs": [],
   "source": [
    "# convert an array of values into a dataset matrix\n",
    "def create_dataset(dataset, look_back=1):\n",
    " dataX, dataY = [], []\n",
    " for i in range(len(dataset)-look_back-1):\n",
    "  a = dataset[i:(i+look_back), 0]\n",
    "  dataX.append(a)\n",
    "  dataY.append(dataset[i + look_back, 0])\n",
    " return np.array(dataX), np.array(dataY)"
   ]
  },
  {
   "cell_type": "code",
   "execution_count": null,
   "id": "8B4xMPh3Ce8o",
   "metadata": {
    "colab": {
     "base_uri": "https://localhost:8080/"
    },
    "id": "8B4xMPh3Ce8o",
    "outputId": "4c2cf717-c680-4240-e17c-cf13a4438025"
   },
   "outputs": [],
   "source": [
    "print(create_dataset(dataset))"
   ]
  },
  {
   "cell_type": "code",
   "execution_count": null,
   "id": "9kTI8nP_C0mn",
   "metadata": {
    "id": "9kTI8nP_C0mn"
   },
   "outputs": [],
   "source": [
    "# reshape into X=t and Y=t+1\n",
    "look_back = 1\n",
    "trainX, trainY = create_dataset(train, look_back)\n",
    "testX, testY = create_dataset(test, look_back)"
   ]
  },
  {
   "cell_type": "code",
   "execution_count": null,
   "id": "0OPuLNUgC5Hf",
   "metadata": {
    "id": "0OPuLNUgC5Hf"
   },
   "outputs": [],
   "source": [
    "# reshape input to be [samples, time steps, features]\n",
    "trainX = np.reshape(trainX, (trainX.shape[0], 1, trainX.shape[1]))\n",
    "testX = np.reshape(testX, (testX.shape[0], 1, testX.shape[1]))"
   ]
  },
  {
   "cell_type": "code",
   "execution_count": null,
   "id": "EE1ms85GC_YS",
   "metadata": {
    "colab": {
     "base_uri": "https://localhost:8080/"
    },
    "id": "EE1ms85GC_YS",
    "outputId": "7de08047-8a7f-482c-e430-bd546f8ea1c7"
   },
   "outputs": [],
   "source": [
    "# create and fit the LSTM network\n",
    "model = Sequential()\n",
    "model.add(LSTM(4, input_shape=(1, look_back)))\n",
    "model.add(Dense(1))\n",
    "model.compile(loss='mean_squared_error', optimizer='adam')\n",
    "model.fit(trainX, trainY, epochs=100, batch_size=1, verbose=2)"
   ]
  },
  {
   "cell_type": "code",
   "execution_count": null,
   "id": "GqYpUV1kDHGM",
   "metadata": {
    "colab": {
     "base_uri": "https://localhost:8080/"
    },
    "id": "GqYpUV1kDHGM",
    "outputId": "b8017433-32d8-4196-94f0-943b9c7a874d"
   },
   "outputs": [],
   "source": [
    "# make predictions\n",
    "trainPredict = model.predict(trainX)\n",
    "testPredict = model.predict(testX)\n",
    "# invert predictions\n",
    "trainPredict = scaler.inverse_transform(trainPredict)\n",
    "trainY = scaler.inverse_transform([trainY])\n",
    "testPredict = scaler.inverse_transform(testPredict)\n",
    "testY = scaler.inverse_transform([testY])\n",
    "# calculate root mean squared error\n",
    "trainScore = np.sqrt(mean_squared_error(trainY[0], trainPredict[:,0]))\n",
    "print('Train Score: %.2f RMSE' % (trainScore))\n",
    "testScore = np.sqrt(mean_squared_error(testY[0], testPredict[:,0]))\n",
    "print('Test Score: %.2f RMSE' % (testScore))"
   ]
  },
  {
   "cell_type": "code",
   "execution_count": null,
   "id": "Tlg864GaaQ7b",
   "metadata": {
    "colab": {
     "base_uri": "https://localhost:8080/"
    },
    "id": "Tlg864GaaQ7b",
    "outputId": "8589c59d-7695-4993-ddee-29da3854cb97"
   },
   "outputs": [],
   "source": [
    "trainPredict"
   ]
  },
  {
   "cell_type": "code",
   "execution_count": null,
   "id": "cVsk8ChyDXtS",
   "metadata": {
    "colab": {
     "base_uri": "https://localhost:8080/",
     "height": 430
    },
    "id": "cVsk8ChyDXtS",
    "outputId": "14209150-bc2e-4d6c-c576-5ff9f160de44"
   },
   "outputs": [],
   "source": [
    "# shift train predictions for plotting\n",
    "trainPredictPlot = np.empty_like(dataset)\n",
    "trainPredictPlot[:, :] = np.nan\n",
    "trainPredictPlot[look_back:len(trainPredict)+look_back, :] = trainPredict\n",
    "# shift test predictions for plotting\n",
    "testPredictPlot = np.empty_like(dataset)\n",
    "testPredictPlot[:, :] = np.nan\n",
    "testPredictPlot[len(trainPredict)+(look_back*2)+1:len(dataset)-1, :] = testPredict\n",
    "# plot baseline and predictions\n",
    "plt.plot(scaler.inverse_transform(dataset))\n",
    "plt.plot(trainPredictPlot)\n",
    "plt.plot(testPredictPlot)\n",
    "plt.show()"
   ]
  },
  {
   "cell_type": "code",
   "execution_count": null,
   "id": "OpHa87UHgkhJ",
   "metadata": {
    "colab": {
     "base_uri": "https://localhost:8080/",
     "height": 833
    },
    "id": "OpHa87UHgkhJ",
    "outputId": "19efd9bb-bb38-43fe-ab42-6422bbd296ac"
   },
   "outputs": [],
   "source": [
    "test_data"
   ]
  },
  {
   "cell_type": "code",
   "execution_count": null,
   "id": "IT75XHhUitIT",
   "metadata": {
    "colab": {
     "base_uri": "https://localhost:8080/"
    },
    "id": "IT75XHhUitIT",
    "outputId": "83c852d7-7ebb-4611-e66a-5b096f9ebcea"
   },
   "outputs": [],
   "source": [
    "len(test_data)"
   ]
  },
  {
   "cell_type": "code",
   "execution_count": null,
   "id": "FYsjLrmDgxTO",
   "metadata": {
    "colab": {
     "base_uri": "https://localhost:8080/"
    },
    "id": "FYsjLrmDgxTO",
    "outputId": "dd62debd-acc9-472c-960c-d05cd9b40dd4"
   },
   "outputs": [],
   "source": [
    "testPredict"
   ]
  },
  {
   "cell_type": "code",
   "execution_count": null,
   "id": "hZzz-L7oiV8F",
   "metadata": {
    "id": "hZzz-L7oiV8F"
   },
   "outputs": [],
   "source": [
    "predited_data=pd.DataFrame(testPredict)"
   ]
  },
  {
   "cell_type": "code",
   "execution_count": null,
   "id": "B-65Bfv8jGsF",
   "metadata": {
    "colab": {
     "base_uri": "https://localhost:8080/",
     "height": 770
    },
    "id": "B-65Bfv8jGsF",
    "outputId": "c1984227-fdb9-4cd5-dbe5-5abd9a2d27f0"
   },
   "outputs": [],
   "source": [
    "predited_data"
   ]
  },
  {
   "cell_type": "code",
   "execution_count": null,
   "id": "_X9w2NwhjPzx",
   "metadata": {
    "colab": {
     "base_uri": "https://localhost:8080/"
    },
    "id": "_X9w2NwhjPzx",
    "outputId": "ea9e3510-956e-445f-ef24-b70443ef944e"
   },
   "outputs": [],
   "source": [
    "predicted_data=[65.410000]\n",
    "for i in predited_data[0]:\n",
    "  predicted_data.append(i)\n",
    "predicted_data"
   ]
  },
  {
   "cell_type": "code",
   "execution_count": null,
   "id": "7oidM-gKji2U",
   "metadata": {
    "id": "7oidM-gKji2U"
   },
   "outputs": [],
   "source": [
    "Prediction=test_data.copy()"
   ]
  },
  {
   "cell_type": "code",
   "execution_count": null,
   "id": "htVdHNInsXww",
   "metadata": {
    "id": "htVdHNInsXww"
   },
   "outputs": [],
   "source": [
    "Prediction['Precited_price']=predicted_data"
   ]
  },
  {
   "cell_type": "code",
   "execution_count": null,
   "id": "_HfgdyC_sk0I",
   "metadata": {
    "colab": {
     "base_uri": "https://localhost:8080/",
     "height": 833
    },
    "id": "_HfgdyC_sk0I",
    "outputId": "7e306f2a-0b17-48ca-b768-35aea33bde94"
   },
   "outputs": [],
   "source": [
    "Prediction=Prediction.drop(columns=['price'])\n",
    "Prediction"
   ]
  },
  {
   "cell_type": "code",
   "execution_count": null,
   "id": "VEZBTnA5esLz",
   "metadata": {
    "colab": {
     "base_uri": "https://localhost:8080/",
     "height": 447
    },
    "id": "VEZBTnA5esLz",
    "outputId": "f6f3b495-5114-4233-891c-a344ad122ba1"
   },
   "outputs": [],
   "source": [
    "plt.figure(figsize=(14,6))\n",
    "plt.plot(train_data, label='Train')\n",
    "plt.plot(test_data, label='Test')\n",
    "plt.plot(Prediction, label='Prediction')\n",
    "plt.legend(loc='best')\n",
    "plt.show()"
   ]
  },
  {
   "cell_type": "code",
   "execution_count": null,
   "id": "CfhF68CrDZva",
   "metadata": {
    "id": "CfhF68CrDZva"
   },
   "outputs": [],
   "source": [
    "dataX, dataY = create_dataset(dataset, look_back)"
   ]
  },
  {
   "cell_type": "code",
   "execution_count": null,
   "id": "9fuotnBJAYMw",
   "metadata": {
    "colab": {
     "base_uri": "https://localhost:8080/"
    },
    "id": "9fuotnBJAYMw",
    "outputId": "00d43c91-28e0-4698-aaa3-b8824f078184"
   },
   "outputs": [],
   "source": [
    "model1 = Sequential()\n",
    "model1.add(LSTM(4, input_shape=(1, look_back)))\n",
    "model1.add(Dense(1))\n",
    "model1.compile(loss='mean_squared_error', optimizer='adam')\n",
    "model1.fit(dataX, dataY, epochs=100, batch_size=1, verbose=2)"
   ]
  },
  {
   "cell_type": "code",
   "execution_count": null,
   "id": "vqs-knk5RXVM",
   "metadata": {
    "id": "vqs-knk5RXVM"
   },
   "outputs": [],
   "source": [
    "dataset1 = dataset.reshape((-1))\n",
    "\n",
    "def predict(num_prediction, model):\n",
    "    prediction_list = dataset[-look_back:]\n",
    "\n",
    "    for _ in range(num_prediction):\n",
    "        x = prediction_list[-look_back:]\n",
    "        x = x.reshape((1, look_back, 1))\n",
    "        out = model.predict(x)[0][0]\n",
    "        prediction_list = np.append(prediction_list, out)\n",
    "    prediction_list = prediction_list[look_back-1:]\n",
    "\n",
    "    return prediction_list\n",
    "\n",
    "def predict_dates(num_prediction):\n",
    "    last_date = df2.index.values[-1]\n",
    "    prediction_dates = pd.date_range(last_date, periods=num_prediction+1,freq='M').tolist()\n",
    "    return prediction_dates"
   ]
  },
  {
   "cell_type": "code",
   "execution_count": null,
   "id": "vdt16H4bTvju",
   "metadata": {
    "colab": {
     "base_uri": "https://localhost:8080/"
    },
    "id": "vdt16H4bTvju",
    "outputId": "0891c6d4-da84-4097-b1d6-797aef0447f3"
   },
   "outputs": [],
   "source": [
    "num_prediction = 30\n",
    "forecast = predict(num_prediction, model1)\n",
    "forecast_dates = predict_dates(num_prediction)"
   ]
  },
  {
   "cell_type": "code",
   "execution_count": null,
   "id": "LlWA2kn5T_jM",
   "metadata": {
    "colab": {
     "base_uri": "https://localhost:8080/"
    },
    "id": "LlWA2kn5T_jM",
    "outputId": "526b2802-39cb-47fb-ceb2-1718d3dd9b1c"
   },
   "outputs": [],
   "source": [
    "forecast=forecast.reshape(-1,1)\n",
    "forecast = scaler.inverse_transform(forecast)\n",
    "forecast"
   ]
  },
  {
   "cell_type": "code",
   "execution_count": null,
   "id": "BfsdnAxkUzSG",
   "metadata": {
    "colab": {
     "base_uri": "https://localhost:8080/"
    },
    "id": "BfsdnAxkUzSG",
    "outputId": "a4401d1e-4874-4d3c-db9b-0250faa2336c"
   },
   "outputs": [],
   "source": [
    "forecast_dates=pd.to_datetime(forecast_dates)\n",
    "forecast_dates"
   ]
  },
  {
   "cell_type": "code",
   "execution_count": null,
   "id": "9-VQJnkCTKT8",
   "metadata": {
    "id": "9-VQJnkCTKT8"
   },
   "outputs": [],
   "source": [
    "forecasted_data_final=pd.DataFrame()"
   ]
  },
  {
   "cell_type": "code",
   "execution_count": null,
   "id": "kq2w4gxmaIE3",
   "metadata": {
    "colab": {
     "base_uri": "https://localhost:8080/",
     "height": 990
    },
    "id": "kq2w4gxmaIE3",
    "outputId": "e5656bd4-1af7-4462-ccb5-22b9bf18fb66"
   },
   "outputs": [],
   "source": [
    "forecasted_data_final['Date']=forecast_dates\n",
    "forecasted_data_final['Price']=forecast\n",
    "forecasted_data_final.drop(index=0,inplace=True)\n",
    "forecasted_data_final"
   ]
  },
  {
   "cell_type": "code",
   "execution_count": null,
   "id": "g0X0PloGdRb0",
   "metadata": {
    "colab": {
     "base_uri": "https://localhost:8080/",
     "height": 1000
    },
    "id": "g0X0PloGdRb0",
    "outputId": "01046616-6a7b-4369-9709-b707d5eb586f"
   },
   "outputs": [],
   "source": [
    "forecasted_data_final.set_index('Date', inplace=True)\n",
    "forecasted_data_final"
   ]
  },
  {
   "cell_type": "code",
   "execution_count": null,
   "id": "9WOf0Q6VZcYC",
   "metadata": {
    "colab": {
     "base_uri": "https://localhost:8080/",
     "height": 447
    },
    "id": "9WOf0Q6VZcYC",
    "outputId": "1825e698-5c02-4436-ec80-cfc3dca9deb2"
   },
   "outputs": [],
   "source": [
    "plt.figure(figsize=(14,6))\n",
    "plt.plot(df2, label='Original')\n",
    "plt.plot(forecasted_data_final, label='Forecast')\n",
    "#plt.plot(Prediction, label='Prediction')\n",
    "plt.legend(loc='best')\n",
    "plt.show()"
   ]
  },
  {
   "cell_type": "code",
   "execution_count": null,
   "id": "mahqGvIQwf6O",
   "metadata": {
    "colab": {
     "base_uri": "https://localhost:8080/"
    },
    "id": "mahqGvIQwf6O",
    "outputId": "cd6b0376-4d38-4782-e75a-ee3658ce407b"
   },
   "outputs": [],
   "source": [
    "import joblib\n",
    "joblib.dump(model1, 'model1.pkl')"
   ]
  },
  {
   "cell_type": "code",
   "execution_count": null,
   "id": "wzF73b5WA7o_",
   "metadata": {
    "id": "wzF73b5WA7o_"
   },
   "outputs": [],
   "source": [
    "import pickle\n",
    "pickle.dump(model1, open('forecast_model.pickle','wb'))"
   ]
  }
 ],
 "metadata": {
  "colab": {
   "provenance": []
  },
  "kernelspec": {
   "display_name": "Python 3 (ipykernel)",
   "language": "python",
   "name": "python3"
  },
  "language_info": {
   "codemirror_mode": {
    "name": "ipython",
    "version": 3
   },
   "file_extension": ".py",
   "mimetype": "text/x-python",
   "name": "python",
   "nbconvert_exporter": "python",
   "pygments_lexer": "ipython3",
   "version": "3.11.5"
  }
 },
 "nbformat": 4,
 "nbformat_minor": 5
}
